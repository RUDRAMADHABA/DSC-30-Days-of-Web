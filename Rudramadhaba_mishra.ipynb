{
  "nbformat": 4,
  "nbformat_minor": 0,
  "metadata": {
    "colab": {
      "name": "Rudramadhaba mishra.ipynb",
      "provenance": [],
      "include_colab_link": true
    },
    "kernelspec": {
      "name": "python3",
      "display_name": "Python 3"
    }
  },
  "cells": [
    {
      "cell_type": "markdown",
      "metadata": {
        "id": "view-in-github",
        "colab_type": "text"
      },
      "source": [
        "<a href=\"https://colab.research.google.com/github/RUDRAMADHABA/DSC-30-Days-of-Web/blob/main/Rudramadhaba_mishra.ipynb\" target=\"_parent\"><img src=\"https://colab.research.google.com/assets/colab-badge.svg\" alt=\"Open In Colab\"/></a>"
      ]
    },
    {
      "cell_type": "markdown",
      "metadata": {
        "id": "6F1VeGqvlYRm"
      },
      "source": [
        "Here are some important libraries"
      ]
    },
    {
      "cell_type": "code",
      "metadata": {
        "id": "ikRjwoxEeVwD"
      },
      "source": [
        "import pandas as pd\n",
        "import numpy as np\n"
      ],
      "execution_count": null,
      "outputs": []
    },
    {
      "cell_type": "markdown",
      "metadata": {
        "id": "GDvOCf_He01k"
      },
      "source": [
        "loading iris function"
      ]
    },
    {
      "cell_type": "code",
      "metadata": {
        "id": "2z1lL1RRjz-j"
      },
      "source": [
        "From sklearn.datasets import load_iris\r\n",
        "iris_dataset = load_iris()"
      ],
      "execution_count": null,
      "outputs": []
    },
    {
      "cell_type": "markdown",
      "metadata": {
        "id": "Y7r3oGuXklmO"
      },
      "source": [
        "iris object containing keys and values."
      ]
    },
    {
      "cell_type": "code",
      "metadata": {
        "id": "eS4uxAvTluOk"
      },
      "source": [
        "print(“keys of iris_dataset: \\n{}”.format(iris_dataset.key()))\r\n",
        "keys of iris_dataset:\r\n",
        "dist_keys(['data','target','target_names','DESCR','features_names','filename'])"
      ],
      "execution_count": null,
      "outputs": []
    },
    {
      "cell_type": "markdown",
      "metadata": {
        "id": "sD-Xemezo7o9"
      },
      "source": [
        "Lets see what key DESCR contains"
      ]
    },
    {
      "cell_type": "code",
      "metadata": {
        "id": "_jHo-R6hqHVj"
      },
      "source": [
        "print(iris_dataset['DESCR'][:193]+\"\\n....\")\r\n",
        "..iris_dataset:\r\n",
        "iris plants dataset\r\n",
        "..........\r\n",
        "**dataset of characteristics:**\r\n",
        ":Number of Instances:150(50 in each of three classes)\r\n",
        ":Numbers of Attributes:4 numeric,pre\r\n",
        "........."
      ],
      "execution_count": null,
      "outputs": []
    },
    {
      "cell_type": "markdown",
      "metadata": {
        "id": "hqBOeS71rsdY"
      },
      "source": [
        "The value of key target_names "
      ]
    },
    {
      "cell_type": "code",
      "metadata": {
        "id": "DsBfqOXpr98W"
      },
      "source": [
        "print(\"Target names:{}\".format(iris_dataset['target_names']))\r\n",
        "Target names:['setosa','Versicolor','virginica']"
      ],
      "execution_count": null,
      "outputs": []
    },
    {
      "cell_type": "markdown",
      "metadata": {
        "id": "6Xh5Ypzgsrxl"
      },
      "source": [
        "The value of feature_name"
      ]
    },
    {
      "cell_type": "code",
      "metadata": {
        "id": "39khrIVes0Mf"
      },
      "source": [
        "print('features names:\\n{}'.format(iris_data['features_names']))\r\n",
        "feature_names:\r\n",
        "['Sepal lenght(cm)','Sepal Width(cm)','petal lenght(cm)','petal width(cm)']"
      ],
      "execution_count": null,
      "outputs": []
    },
    {
      "cell_type": "markdown",
      "metadata": {
        "id": "CjFZiT9yuCiy"
      },
      "source": [
        "numpy array"
      ]
    },
    {
      "cell_type": "code",
      "metadata": {
        "id": "unL3LTvEuIJu"
      },
      "source": [
        "print(\"type of data {}\".format(type(iris_dataset['data'])))\r\n",
        "type of data:<class 'numpy.ndarray'>"
      ],
      "execution_count": null,
      "outputs": []
    },
    {
      "cell_type": "markdown",
      "metadata": {
        "id": "D3TFFY4UuyHq"
      },
      "source": [
        "shape of data"
      ]
    },
    {
      "cell_type": "code",
      "metadata": {
        "id": "pGIxd4VPu3QM"
      },
      "source": [
        "print(\"Shape of data: {}\".format(iris_dataset['data'].shape))\r\n",
        "shape of data:(150,4)"
      ],
      "execution_count": null,
      "outputs": []
    },
    {
      "cell_type": "markdown",
      "metadata": {
        "id": "AzhXBHrHvXDK"
      },
      "source": [
        "Data representation"
      ]
    },
    {
      "cell_type": "code",
      "metadata": {
        "id": "HgSH1DjIxK8w"
      },
      "source": [
        "print(\"First Five colums of data: \\n{}\".format(iris_dataset['data'][:5]))\r\n",
        "First five colums of data\r\n",
        "[[5.1 3.5 1.4 0.2]\r\n",
        " [4.9 3.0 1.4 0.2]\r\n",
        " [4.7 3.2 1.3 0.2]\r\n",
        " [4.6 3.1 1.5 0.2]\r\n",
        " [5.0 3.6 1.4 0.2]]\r\n",
        "\r\n"
      ],
      "execution_count": null,
      "outputs": []
    },
    {
      "cell_type": "markdown",
      "metadata": {
        "id": "KoEEFnY_zpSW"
      },
      "source": [
        "Types of Target "
      ]
    },
    {
      "cell_type": "code",
      "metadata": {
        "id": "JOMUMwWNzvDS"
      },
      "source": [
        "print(\"tpye of target:{}\".format(type(iris_dataset['target']))\r\n",
        "Type of target: <class 'numpy.ndarray'>"
      ],
      "execution_count": null,
      "outputs": []
    },
    {
      "cell_type": "markdown",
      "metadata": {
        "id": "tkboP6Wa0qf3"
      },
      "source": [
        "Shape of Target"
      ]
    },
    {
      "cell_type": "code",
      "metadata": {
        "id": "iL1Eiofm0z9G"
      },
      "source": [
        "print(\"Shape of target:{}\".format(iris_dataset['target']))\r\n",
        "shape of Target:(150, )"
      ],
      "execution_count": null,
      "outputs": []
    },
    {
      "cell_type": "markdown",
      "metadata": {
        "id": "b2bFiPfc1nit"
      },
      "source": [
        "Result"
      ]
    },
    {
      "cell_type": "code",
      "metadata": {
        "id": "6Eql-hd91ypu"
      },
      "source": [
        "print(\"Target:\\n{}\".format(iris_dataset['target']))"
      ],
      "execution_count": null,
      "outputs": []
    },
    {
      "cell_type": "markdown",
      "metadata": {
        "id": "bbkA9Iyf2GWu"
      },
      "source": [
        "Testing of Data"
      ]
    },
    {
      "cell_type": "code",
      "metadata": {
        "id": "m5n1EJme2JUd"
      },
      "source": [
        "From sklearn.model_selection import train_test_split\r\n",
        "X_train, X_test, Y_train, Y_test = train_test_spilt(\r\n",
        "    iris_dataset['data'],iris_dataset['target'], random_state =0)"
      ],
      "execution_count": null,
      "outputs": []
    },
    {
      "cell_type": "markdown",
      "metadata": {
        "id": "5aFxfpFr3sEc"
      },
      "source": [
        "X_train = 75% and X_test = 25%"
      ]
    },
    {
      "cell_type": "code",
      "metadata": {
        "id": "ldzGcbb333ua"
      },
      "source": [
        "print(\"X_train Shape:{}\".format(X_train.shape))\r\n",
        "print(\"Y_train Shape:{}\".format(Y_train.shape))\r\n",
        "print(\"X_test Shape:{}\".format(X_test.shape))\r\n",
        "print(\"Y_test Shape:{}\".format(Y_test.shape))\r\n",
        "\r\n",
        "X_train shape :(112,4)\r\n",
        "Y_train shape :(112, )\r\n",
        "X_test shape :(38,4)\r\n",
        "Y_test shape :(38, )"
      ],
      "execution_count": null,
      "outputs": []
    },
    {
      "cell_type": "markdown",
      "metadata": {
        "id": "LbrhVVoU5CHN"
      },
      "source": [
        "Machine Learning Model(Bot)"
      ]
    },
    {
      "cell_type": "code",
      "metadata": {
        "id": "RDuqexRd5Kj5"
      },
      "source": [
        "From sklearn.neighbors import KNeighborsClassifier\r\n",
        "Knn = KKNeighborsClassifier(n_neighbors = 1)\r\n",
        "Knn.Fit(X_train,Y_train)\r\n",
        "KNeighborsClassifier(algorithms = 'auto',leaf_size = 30, metric = \r\n",
        "                     'minkowski',metric_params = none,\r\n",
        "                     n_jobs = None, n_neighbors = 1, p  =2, Weight = 'uniform')"
      ],
      "execution_count": null,
      "outputs": []
    },
    {
      "cell_type": "markdown",
      "metadata": {
        "id": "6kuvRzV57CbQ"
      },
      "source": [
        "Making Predictions"
      ]
    },
    {
      "cell_type": "code",
      "metadata": {
        "id": "NFILTE__7HIb"
      },
      "source": [
        "X_new = np.array([[5, 2.9, 1, 0.2]])\r\n",
        "print(\"X_new.shape:{}\".format(X_new.shape))\r\n",
        "X_new.shape :(1,4)\r\n",
        "prediction = Knn.predict(X_new)\r\n",
        "print(\"prediction:{}\".format(prediction))\r\n",
        "print(\"predictiontarget_name :{}\".format(iris_dataset['target_names']\r\n",
        "                                         [prediction]))\r\n",
        "prediction:[0]\r\n",
        "prediction target name :['Setosa']"
      ],
      "execution_count": null,
      "outputs": []
    },
    {
      "cell_type": "markdown",
      "metadata": {
        "id": "I5cXY29h8yhl"
      },
      "source": [
        ""
      ]
    },
    {
      "cell_type": "markdown",
      "metadata": {
        "id": "_qkoFrsZ8yk8"
      },
      "source": [
        "Evaluation"
      ]
    },
    {
      "cell_type": "code",
      "metadata": {
        "id": "91Bke8NS8_CS"
      },
      "source": [
        "Y_pred = Knn.predict(X_test)\r\n",
        "print(\"TEst Set prediction :\\n{}\".format(Y_pred))\r\n",
        "TEst set prediction:\r\n",
        "[2 1 0 2 0 2 0 1 1 1 2 1 1 1 1 0 1 1 0 0 2 1 0 0 2 0 0 1 1 0 2 1 0 2 2 1 0 2]"
      ],
      "execution_count": null,
      "outputs": []
    },
    {
      "cell_type": "code",
      "metadata": {
        "id": "WrzX5aR_-EHd"
      },
      "source": [
        "print(\"Test set score: {}\".format(np.mean(Y_pred == y_test)))\r\n",
        "Test set score: 0.9736842105263158"
      ],
      "execution_count": null,
      "outputs": []
    }
  ]
}